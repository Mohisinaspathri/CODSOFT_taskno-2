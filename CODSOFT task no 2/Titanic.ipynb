{
  "cells": [
    {
      "cell_type": "code",
      "execution_count": 2,
      "metadata": {
        "colab": {
          "base_uri": "https://localhost:8080/"
        },
        "id": "otMCGc7QTigA",
        "outputId": "c00eee15-c0e6-4ac4-9bca-21dfb70eaba4"
      },
      "outputs": [
        {
          "output_type": "stream",
          "name": "stdout",
          "text": [
            "Requirement already satisfied: pandas in /usr/local/lib/python3.10/dist-packages (2.1.4)\n",
            "Requirement already satisfied: scikit-learn in /usr/local/lib/python3.10/dist-packages (1.3.2)\n",
            "Collecting fuzzywuzzy\n",
            "  Downloading fuzzywuzzy-0.18.0-py2.py3-none-any.whl.metadata (4.9 kB)\n",
            "Requirement already satisfied: numpy<2,>=1.22.4 in /usr/local/lib/python3.10/dist-packages (from pandas) (1.26.4)\n",
            "Requirement already satisfied: python-dateutil>=2.8.2 in /usr/local/lib/python3.10/dist-packages (from pandas) (2.8.2)\n",
            "Requirement already satisfied: pytz>=2020.1 in /usr/local/lib/python3.10/dist-packages (from pandas) (2024.1)\n",
            "Requirement already satisfied: tzdata>=2022.1 in /usr/local/lib/python3.10/dist-packages (from pandas) (2024.1)\n",
            "Requirement already satisfied: scipy>=1.5.0 in /usr/local/lib/python3.10/dist-packages (from scikit-learn) (1.13.1)\n",
            "Requirement already satisfied: joblib>=1.1.1 in /usr/local/lib/python3.10/dist-packages (from scikit-learn) (1.4.2)\n",
            "Requirement already satisfied: threadpoolctl>=2.0.0 in /usr/local/lib/python3.10/dist-packages (from scikit-learn) (3.5.0)\n",
            "Requirement already satisfied: six>=1.5 in /usr/local/lib/python3.10/dist-packages (from python-dateutil>=2.8.2->pandas) (1.16.0)\n",
            "Downloading fuzzywuzzy-0.18.0-py2.py3-none-any.whl (18 kB)\n",
            "Installing collected packages: fuzzywuzzy\n",
            "Successfully installed fuzzywuzzy-0.18.0\n"
          ]
        }
      ],
      "source": [
        "!pip install pandas scikit-learn fuzzywuzzy"
      ]
    },
    {
      "cell_type": "code",
      "execution_count": 3,
      "metadata": {
        "colab": {
          "base_uri": "https://localhost:8080/"
        },
        "id": "qfDzpdiBTlnC",
        "outputId": "b27223f6-b6be-4597-9c0c-f614b22b52ac"
      },
      "outputs": [
        {
          "output_type": "stream",
          "name": "stderr",
          "text": [
            "/usr/local/lib/python3.10/dist-packages/fuzzywuzzy/fuzz.py:11: UserWarning: Using slow pure-python SequenceMatcher. Install python-Levenshtein to remove this warning\n",
            "  warnings.warn('Using slow pure-python SequenceMatcher. Install python-Levenshtein to remove this warning')\n"
          ]
        },
        {
          "output_type": "stream",
          "name": "stdout",
          "text": [
            "Enter passenger name: Rice, Master. Eugene\n",
            "Enter ticket class (1, 2, or 3): 3\n",
            "Details: {'PassengerId': 17, 'Survived': 'Did not survive', 'Pclass': 3, 'Name': 'Rice, Master. Eugene', 'Sex': 'male', 'Age': 2.0, 'SibSp': 4, 'Parch': 1, 'Ticket': '382652', 'Fare': 29.125, 'Cabin': nan, 'Embarked': 'Q'}\n",
            "Prediction: Did not survive\n",
            "If you have any doubts or questions, you can ask: percentage of male survivors\n",
            "The percentage of male survivors is 18.89%.\n"
          ]
        }
      ],
      "source": [
        "# Import necessary libraries\n",
        "import pandas as pd\n",
        "from sklearn.model_selection import train_test_split\n",
        "from sklearn.preprocessing import LabelEncoder\n",
        "from sklearn.ensemble import RandomForestClassifier\n",
        "from fuzzywuzzy import process\n",
        "import warnings\n",
        "\n",
        "# Suppress warnings\n",
        "warnings.filterwarnings('ignore')\n",
        "\n",
        "# Load the dataset\n",
        "file_path = 'Titanic-Dataset.csv'  # replace with your file path in Google Colab\n",
        "titanic_data = pd.read_csv(file_path)\n",
        "\n",
        "# Preprocess the data\n",
        "def preprocess_data(data):\n",
        "    data = data.copy()\n",
        "    # Fill missing values\n",
        "    data['Age'].fillna(data['Age'].median(), inplace=True)\n",
        "    data['Embarked'].fillna(data['Embarked'].mode()[0], inplace=True)\n",
        "    data['Fare'].fillna(data['Fare'].median(), inplace=True)\n",
        "    # Drop columns that are not needed\n",
        "    data.drop(columns=['PassengerId', 'Name', 'Ticket', 'Cabin'], inplace=True)\n",
        "    # Convert categorical variables to numeric\n",
        "    label_encoder = LabelEncoder()\n",
        "    data['Sex'] = label_encoder.fit_transform(data['Sex'])\n",
        "    data['Embarked'] = label_encoder.fit_transform(data['Embarked'])\n",
        "    return data\n",
        "\n",
        "# Preprocess the dataset\n",
        "processed_data = preprocess_data(titanic_data)\n",
        "\n",
        "# Split the data into features and target\n",
        "X = processed_data.drop(columns=['Survived'])\n",
        "y = processed_data['Survived']\n",
        "\n",
        "# Split the data into training and testing sets\n",
        "X_train, X_test, y_train, y_test = train_test_split(X, y, test_size=0.2, random_state=42)\n",
        "\n",
        "# Build the predictive model\n",
        "model = RandomForestClassifier(n_estimators=100, random_state=42)\n",
        "model.fit(X_train, y_train)\n",
        "\n",
        "# Function to display details and prediction\n",
        "def predict_survival(name, pclass):\n",
        "    # Find the closest match for the passenger's name\n",
        "    name_matches = process.extract(name, titanic_data['Name'], limit=1)\n",
        "    if not name_matches:\n",
        "        return \"Passenger not found.\", \"\"\n",
        "    closest_name = name_matches[0][0]\n",
        "    # Find the passenger's details\n",
        "    passenger = titanic_data[(titanic_data['Name'] == closest_name) & (titanic_data['Pclass'] == pclass)]\n",
        "    if passenger.empty:\n",
        "        return \"Passenger not found.\", \"\"\n",
        "    passenger_details = passenger.iloc[0]\n",
        "    # Display details and prediction based on the actual data\n",
        "    survived = 'Survived' if passenger_details['Survived'] == 1 else 'Did not survive'\n",
        "    passenger_details_dict = passenger_details.to_dict()\n",
        "    passenger_details_dict['Survived'] = survived\n",
        "    return passenger_details_dict, survived\n",
        "\n",
        "# Function to analyze the data based on user question\n",
        "def analyze_data(question):\n",
        "    question = question.lower()\n",
        "    if \"how many people survived\" in question:\n",
        "        num_survived = titanic_data['Survived'].sum()\n",
        "        return f\"{num_survived} people survived.\"\n",
        "    elif \"how many people did not survive\" in question:\n",
        "        num_not_survived = (titanic_data['Survived'] == 0).sum()\n",
        "        return f\"{num_not_survived} people did not survive.\"\n",
        "    elif \"average age of survivors\" in question:\n",
        "        avg_age_survived = titanic_data[titanic_data['Survived'] == 1]['Age'].mean()\n",
        "        return f\"The average age of survivors is {avg_age_survived:.2f}.\"\n",
        "    elif \"average age of non-survivors\" in question:\n",
        "        avg_age_not_survived = titanic_data[titanic_data['Survived'] == 0]['Age'].mean()\n",
        "        return f\"The average age of non-survivors is {avg_age_not_survived:.2f}.\"\n",
        "    elif \"percentage of female survivors\" in question:\n",
        "        num_female_survivors = titanic_data[(titanic_data['Survived'] == 1) & (titanic_data['Sex'] == 'female')].shape[0]\n",
        "        num_female_total = titanic_data[titanic_data['Sex'] == 'female'].shape[0]\n",
        "        percent_female_survivors = num_female_survivors / num_female_total * 100\n",
        "        return f\"The percentage of female survivors is {percent_female_survivors:.2f}%.\"\n",
        "    elif \"percentage of male survivors\" in question:\n",
        "        num_male_survivors = titanic_data[(titanic_data['Survived'] == 1) & (titanic_data['Sex'] == 'male')].shape[0]\n",
        "        num_male_total = titanic_data[titanic_data['Sex'] == 'male'].shape[0]\n",
        "        percent_male_survivors = num_male_survivors / num_male_total * 100\n",
        "        return f\"The percentage of male survivors is {percent_male_survivors:.2f}%.\"\n",
        "    elif \"survivors by class\" in question:\n",
        "        survivors_by_class = titanic_data[titanic_data['Survived'] == 1]['Pclass'].value_counts(normalize=True) * 100\n",
        "        return survivors_by_class.to_string()\n",
        "    elif \"non-survivors by class\" in question:\n",
        "        non_survivors_by_class = titanic_data[titanic_data['Survived'] == 0]['Pclass'].value_counts(normalize=True) * 100\n",
        "        return non_survivors_by_class.to_string()\n",
        "    else:\n",
        "        return \"I'm sorry, I can only answer specific questions about the Titanic dataset.\"\n",
        "\n",
        "# Test the function with user input\n",
        "name = input(\"Enter passenger name: \")\n",
        "pclass = int(input(\"Enter ticket class (1, 2, or 3): \"))\n",
        "details, prediction = predict_survival(name, pclass)\n",
        "print(f\"Details: {details}\")\n",
        "print(f\"Prediction: {prediction}\")\n",
        "\n",
        "# Ask the user if they have any questions\n",
        "question = input(\"If you have any doubts or questions, you can ask: \")\n",
        "answer = analyze_data(question)\n",
        "print(answer)\n"
      ]
    },
    {
      "cell_type": "code",
      "execution_count": null,
      "metadata": {
        "id": "_RqB0-F0TseJ"
      },
      "outputs": [],
      "source": []
    },
    {
      "cell_type": "code",
      "execution_count": null,
      "metadata": {
        "id": "aDp_TneCh64c"
      },
      "outputs": [],
      "source": []
    }
  ],
  "metadata": {
    "colab": {
      "provenance": []
    },
    "kernelspec": {
      "display_name": "Python 3",
      "name": "python3"
    },
    "language_info": {
      "name": "python"
    }
  },
  "nbformat": 4,
  "nbformat_minor": 0
}